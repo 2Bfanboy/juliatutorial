{
 "cells": [
  {
   "cell_type": "markdown",
   "metadata": {},
   "source": [
    "# Interfacing Julia with other languages"
   ]
  },
  {
   "cell_type": "markdown",
   "metadata": {},
   "source": [
    "### C and Fortran"
   ]
  },
  {
   "cell_type": "code",
   "execution_count": 10,
   "metadata": {},
   "outputs": [
    {
     "data": {
      "text/plain": [
       "12095150"
      ]
     },
     "execution_count": 10,
     "metadata": {},
     "output_type": "execute_result"
    }
   ],
   "source": [
    "# Call C and FORTRAL call directly..\n",
    "t = ccall( (:clock, \"libc\"), Int32, ())"
   ]
  },
  {
   "cell_type": "code",
   "execution_count": 11,
   "metadata": {},
   "outputs": [
    {
     "data": {
      "text/plain": [
       "4.0f0"
      ]
     },
     "execution_count": 11,
     "metadata": {},
     "output_type": "execute_result"
    }
   ],
   "source": [
    "# mylib.h:\n",
    "#=\n",
    "#ifndef _MYLIB_H_\n",
    "#define _MYLIB_H_\n",
    "\n",
    "extern float iplustwo (float i);\n",
    "=#\n",
    "\n",
    "# mylib.c:\n",
    "#=\n",
    "float\n",
    "iplustwo (float i){\n",
    " return i+2;\n",
    "}\n",
    "=#\n",
    "\n",
    "# compiled with:\n",
    "# gcc -o mylib.o -c mylib.c\n",
    "# gcc -shared -o libmylib.so mylib.o -lm -fPIC\n",
    "\n",
    "i = 2\n",
    "j = ccall((:iplustwo, \"/home/lobianco/Dropbox/Documenti/Varie/presentazioni_mie/20170313, presentation Julia/assetts/libmylib.so\"), Float32, (Float32,), i)\n"
   ]
  },
  {
   "cell_type": "markdown",
   "metadata": {},
   "source": [
    "### C++\n",
    " - use the [Cxx](https://github.com/Keno/Cxx.jl) package (but very new, it requires dev version of Julia) "
   ]
  },
  {
   "cell_type": "markdown",
   "metadata": {},
   "source": [
    "### Python\n",
    " - [PyCall](https://github.com/JuliaPy/PyCall.jl), a \"relatively\" low level library, allows to call any Python library\n",
    " - this in turn has been used to bild wrappers for all the most important Python libraries"
   ]
  },
  {
   "cell_type": "code",
   "execution_count": 12,
   "metadata": {},
   "outputs": [
    {
     "data": {
      "text/html": [
       "<table class=\"data-frame\"><thead><tr><th></th><th>a</th><th>b</th><th>c</th></tr></thead><tbody><tr><th>1</th><td>21.0</td><td>22.0</td><td>23.0</td></tr><tr><th>2</th><td>31.0</td><td>32.0</td><td>33.0</td></tr></tbody></table>"
      ],
      "text/plain": [
       "2×3 DataFrames.DataFrame\n",
       "│ Row │ a    │ b    │ c    │\n",
       "├─────┼──────┼──────┼──────┤\n",
       "│ 1   │ 21.0 │ 22.0 │ 23.0 │\n",
       "│ 2   │ 31.0 │ 32.0 │ 33.0 │"
      ]
     },
     "execution_count": 12,
     "metadata": {},
     "output_type": "execute_result"
    }
   ],
   "source": [
    "# e.g.PyCall is used in the OdsIO package to wrapper the Python ezodf library to import/export\n",
    "# from/to OpenOffice/LibreOffice spreadsheets:\n",
    "\n",
    "# Pkg.add(\"OdsIO\") # Do this only once: package manager integrated in the language\n",
    "\n",
    "using OdsIO\n",
    "df = ods_read(\"spreadsheet.ods\";sheetName=\"Sheet2\",retType=\"DataFrame\")"
   ]
  },
  {
   "cell_type": "code",
   "execution_count": 13,
   "metadata": {},
   "outputs": [
    {
     "name": "stderr",
     "output_type": "stream",
     "text": [
      "\u001b[1m\u001b[33mWARNING: \u001b[39m\u001b[22m\u001b[33mreplacing docs for 'ods_readall :: Tuple{AbstractString}' in module 'Main'.\u001b[39m\n"
     ]
    },
    {
     "data": {
      "text/plain": [
       "ods_readall"
      ]
     },
     "execution_count": 13,
     "metadata": {},
     "output_type": "execute_result"
    }
   ],
   "source": [
    "# This is the actual code form the Package OdsIO\n",
    "\n",
    "\n",
    "export ods_readall, ods_read, odsio_test, odsio_autotest\n",
    "using PyCall\n",
    "using DataFrames\n",
    "\n",
    "\"\"\"\n",
    "    ods_readall(filename; <keyword arguments>)\n",
    "Return a dictionary of tables|dictionaries|dataframes indexed by position or name in the original OpenDocument Spreadsheet (.ods) file.\n",
    "# Arguments\n",
    "* `sheetsNames=[]`: the list of sheet names from which to import data.\n",
    "* `sheetsPos=[]`: the list of sheet positions (starting from 1) from which to import data.\n",
    "* `ranges=[]`: a list of pair of touples defining the ranges in each sheet from which to import data, in the format ((tlr,trc),(brr,brc))\n",
    "* `innerType=\"Matrix\"`: the type of the inner container returned. Either \"Matrix\", \"Dict\" or \"DataFrame\"\n",
    "# Notes\n",
    "* sheetsNames and sheetsPos can not be given together\n",
    "* ranges is defined using integer positions for both rows and columns\n",
    "* individual dictionaries or dataframes are keyed by the values of the cells in the first row specified in the range, or first row if `range` is not given\n",
    "* innerType=\"Matrix\", differently from innerType=\"Dict\", preserves original column order, it is faster and require less memory\n",
    "* using innerType=\"DataFrame\" also preserves original column order\n",
    "# Examples\n",
    "```julia\n",
    "julia> outDic  = ods_readall(\"spreadsheet.ods\";sheetsPos=[1,3],ranges=[((1,1),(3,3)),((2,2),(6,4))], innerType=\"Dict\")\n",
    "Dict{Any,Any} with 2 entries:\n",
    "  3 => Dict{Any,Any}(Pair{Any,Any}(\"c\",Any[33.0,43.0,53.0,63.0]),Pair{Any,Any}(\"b\",Any[32.0,42.0,52.0,62.0]),Pair{Any,Any}(\"d\",Any[34.0,44.0,54.…\n",
    "  1 => Dict{Any,Any}(Pair{Any,Any}(\"c\",Any[23.0,33.0]),Pair{Any,Any}(\"b\",Any[22.0,32.0]),Pair{Any,Any}(\"a\",Any[21.0,31.0]))\n",
    "```\n",
    "\"\"\"\n",
    "function ods_readall(filename::AbstractString;sheetsNames::AbstractVector=String[],sheetsPos::AbstractVector=Int64[],ranges::AbstractVector=Tuple{Tuple{Int64,Int64},Tuple{Int64,Int64}}[],innerType::AbstractString=\"Matrix\")\n",
    "\n",
    "    try\n",
    "       @pyimport ezodf\n",
    "    catch\n",
    "      error(\"The OdsIO module is correctly installed, but your python installation is missing the 'ezodf' module.\")\n",
    "    end\n",
    "    @pyimport ezodf\n",
    "    toReturn = Dict() # The outer container is always a dictionary\n",
    "    try\n",
    "      global doc = ezodf.opendoc(filename)\n",
    "    catch\n",
    "      error(\"I can not open for reading file $filename at $(pwd())\")\n",
    "    end\n",
    "\n",
    "    nsheets = length(doc[:sheets])\n",
    "    toReturnKeyType = \"name\"\n",
    "    if !isempty(sheetsNames) && !isempty(sheetsPos)\n",
    "        error(\"Do not use sheetNames and sheetPos together\")\n",
    "    end\n",
    "    if !isempty(sheetsPos)\n",
    "        toReturnKeyType = \"pos\"\n",
    "    end\n",
    "    sheetsCounter=0\n",
    "\n",
    "    for (is, sheet) in enumerate(doc[:sheets])\n",
    "        if is in sheetsPos || sheet[:name] in sheetsNames || (isempty(sheetsNames) && isempty(sheetsPos))\n",
    "            sheetsCounter += 1\n",
    "            r_min = 1\n",
    "            r_max = sheet[:nrows]()\n",
    "            c_min = 1\n",
    "            c_max = sheet[:ncols]()\n",
    "            try\n",
    "                if !isempty(ranges) && !isempty(ranges[sheetsCounter])\n",
    "                    r_min::Int64     = ranges[sheetsCounter][1][1]\n",
    "                    r_max::Int64     = min(ranges[sheetsCounter][2][1],sheet[:nrows]())\n",
    "                    c_min::Int64     = ranges[sheetsCounter][1][2]\n",
    "                    c_max::Int64     = min(ranges[sheetsCounter][2][2],sheet[:ncols]())\n",
    "                end\n",
    "            catch\n",
    "                error(\"There is a problem with the range. Range should be defined as a list of pair of touples ((tlr,trc),(brr,brc)) for each sheet to import, using integer positions.\" )\n",
    "            end\n",
    "            if (innerType==\"Matrix\" || innerType==\"Dict\" || innerType==\"DataFrame\" )\n",
    "                innerMatrix = Array{Any,2}(r_max-r_min+1,c_max-c_min+1)\n",
    "                r::Int64=1\n",
    "                for (i::Int64, row) in enumerate(sheet[:rows]())\n",
    "                    if (i>=r_min && i <= r_max) # data row\n",
    "                        c::Int64=1\n",
    "                        for (j::Int64, cell) in enumerate(row)\n",
    "\n",
    "                            if (j>=c_min && j<=c_max)\n",
    "                                innerMatrix[[r],[c]]=cell[:value]\n",
    "                                c = c+1\n",
    "                            end\n",
    "                        end\n",
    "                        r = r+1\n",
    "                    end\n",
    "                end\n",
    "                if innerType==\"Matrix\"\n",
    "                    toReturnKeyType == \"name\"? toReturn[sheet[:name]] = innerMatrix : toReturn[is] = innerMatrix\n",
    "                elseif innerType == \"Dict\"\n",
    "                    toReturnKeyType == \"name\"? toReturn[sheet[:name]] = Dict([(ch,innerMatrix[2:end,cix]) for (cix::Int64,ch) in enumerate(innerMatrix[1,:])]) : toReturn[is] = Dict([(ch,innerMatrix[2:end,cix]) for (cix,ch) in enumerate(innerMatrix[1,:])])\n",
    "                elseif innerType == \"DataFrame\"\n",
    "                    toReturnKeyType == \"name\"? toReturn[sheet[:name]] =   DataFrame(Any[@view innerMatrix[2:end, i] for i::Int64 in 1:size(innerMatrix, 2)], Symbol.(innerMatrix[1, :])) : toReturn[is] = DataFrame(Any[@view innerMatrix[2:end, i] for i in 1:size(innerMatrix, 2)], Symbol.(innerMatrix[1, :]))\n",
    "                end # innerType is really a df\n",
    "            else # end innerTpe is a Dict check\n",
    "                error(\"Only 'Matrix', 'Dict' or 'DataFrame' are supported as innerType/retType.'\")\n",
    "            end # end innerTpe is a Dict or Matrix check\n",
    "        end # end check is a sheet to retain\n",
    "    end # for each sheet\n",
    "    return toReturn\n",
    "end # end functionSS"
   ]
  },
  {
   "cell_type": "markdown",
   "metadata": {},
   "source": [
    "### R\n",
    "- use [RCall](https://github.com/JuliaInterop/RCall.jl) or [Rif](https://github.com/lgautier/Rif.jl)\n",
    "- widely used ([most asked julia-lang question in Stack Overflow](http://stackoverflow.com/questions/tagged/julia-lang?sort=votes))\n",
    "- the other way is also possible (use Julia in R). See the [RJulia](https://github.com/armgong/RJulia) R package."
   ]
  },
  {
   "cell_type": "code",
   "execution_count": 14,
   "metadata": {},
   "outputs": [
    {
     "name": "stderr",
     "output_type": "stream",
     "text": [
      "\u001b[1m\u001b[36mINFO: \u001b[39m\u001b[22m\u001b[36mPrecompiling module RCall.\n",
      "\u001b[39mWARNING: Method definition ==(Base.Nullable{S}, Base.Nullable{T}) in module Base at nullable.jl:238 overwritten in module NullableArrays at /home/lobianco/.julia/v0.6/NullableArrays/src/operators.jl:128.\n",
      "WARNING: Method definition ==(Base.Nullable{S}, Base.Nullable{T}) in module Base at nullable.jl:238 overwritten in module NullableArrays at /home/lobianco/.julia/v0.6/NullableArrays/src/operators.jl:128.\n",
      "WARNING: Method definition ==(Base.Nullable{S}, Base.Nullable{T}) in module Base at nullable.jl:238 overwritten in module NullableArrays at /home/lobianco/.julia/v0.6/NullableArrays/src/operators.jl:128.\n",
      "\u001b[1m\u001b[36mINFO: \u001b[39m\u001b[22m\u001b[36mUsing R installation at /usr/lib/R\n",
      "\u001b[39mWARNING: Method definition ==(Base.Nullable{S}, Base.Nullable{T}) in module Base at nullable.jl:238 overwritten in module NullableArrays at /home/lobianco/.julia/v0.6/NullableArrays/src/operators.jl:128.\n"
     ]
    },
    {
     "data": {
      "text/plain": [
       "10-element Array{Float64,1}:\n",
       " -2.18798 \n",
       "  1.00083 \n",
       "  0.635911\n",
       "  0.718361\n",
       "  0.429411\n",
       "  0.390334\n",
       " -1.42313 \n",
       "  0.278308\n",
       "  0.668552\n",
       "  1.07221 "
      ]
     },
     "execution_count": 14,
     "metadata": {},
     "output_type": "execute_result"
    }
   ],
   "source": [
    "using RCall\n",
    "x = randn(10)"
   ]
  },
  {
   "cell_type": "code",
   "execution_count": 15,
   "metadata": {},
   "outputs": [
    {
     "data": {
      "text/plain": [
       "RCall.RObject{RCall.VecSxp}\n",
       "\n",
       "\tOne Sample t-test\n",
       "\n",
       "data:  `#JL`$x\n",
       "t = 0.46351, df = 9, p-value = 0.654\n",
       "alternative hypothesis: true mean is not equal to 0\n",
       "95 percent confidence interval:\n",
       " -0.6142050  0.9307679\n",
       "sample estimates:\n",
       "mean of x \n",
       "0.1582815 \n",
       "\n"
      ]
     },
     "execution_count": 15,
     "metadata": {},
     "output_type": "execute_result"
    }
   ],
   "source": [
    "R\"t.test($x)\""
   ]
  },
  {
   "cell_type": "code",
   "execution_count": 18,
   "metadata": {},
   "outputs": [
    {
     "data": {
      "text/html": [
       "<table class=\"data-frame\"><thead><tr><th></th><th>Model</th><th>MPG</th><th>Cyl</th><th>Disp</th><th>HP</th><th>DRat</th><th>WT</th><th>QSec</th><th>VS</th><th>AM</th><th>Gear</th><th>Carb</th></tr></thead><tbody><tr><th>1</th><td>Mazda RX4</td><td>21.0</td><td>6</td><td>160.0</td><td>110</td><td>3.9</td><td>2.62</td><td>16.46</td><td>0</td><td>1</td><td>4</td><td>4</td></tr><tr><th>2</th><td>Mazda RX4 Wag</td><td>21.0</td><td>6</td><td>160.0</td><td>110</td><td>3.9</td><td>2.875</td><td>17.02</td><td>0</td><td>1</td><td>4</td><td>4</td></tr><tr><th>3</th><td>Datsun 710</td><td>22.8</td><td>4</td><td>108.0</td><td>93</td><td>3.85</td><td>2.32</td><td>18.61</td><td>1</td><td>1</td><td>4</td><td>1</td></tr><tr><th>4</th><td>Hornet 4 Drive</td><td>21.4</td><td>6</td><td>258.0</td><td>110</td><td>3.08</td><td>3.215</td><td>19.44</td><td>1</td><td>0</td><td>3</td><td>1</td></tr><tr><th>5</th><td>Hornet Sportabout</td><td>18.7</td><td>8</td><td>360.0</td><td>175</td><td>3.15</td><td>3.44</td><td>17.02</td><td>0</td><td>0</td><td>3</td><td>2</td></tr><tr><th>6</th><td>Valiant</td><td>18.1</td><td>6</td><td>225.0</td><td>105</td><td>2.76</td><td>3.46</td><td>20.22</td><td>1</td><td>0</td><td>3</td><td>1</td></tr></tbody></table>"
      ],
      "text/plain": [
       "6×12 DataFrames.DataFrame\n",
       "│ Row │ Model               │ MPG  │ Cyl │ Disp  │ HP  │ DRat │ WT    │ QSec  │\n",
       "├─────┼─────────────────────┼──────┼─────┼───────┼─────┼──────┼───────┼───────┤\n",
       "│ 1   │ \"Mazda RX4\"         │ 21.0 │ 6   │ 160.0 │ 110 │ 3.9  │ 2.62  │ 16.46 │\n",
       "│ 2   │ \"Mazda RX4 Wag\"     │ 21.0 │ 6   │ 160.0 │ 110 │ 3.9  │ 2.875 │ 17.02 │\n",
       "│ 3   │ \"Datsun 710\"        │ 22.8 │ 4   │ 108.0 │ 93  │ 3.85 │ 2.32  │ 18.61 │\n",
       "│ 4   │ \"Hornet 4 Drive\"    │ 21.4 │ 6   │ 258.0 │ 110 │ 3.08 │ 3.215 │ 19.44 │\n",
       "│ 5   │ \"Hornet Sportabout\" │ 18.7 │ 8   │ 360.0 │ 175 │ 3.15 │ 3.44  │ 17.02 │\n",
       "│ 6   │ \"Valiant\"           │ 18.1 │ 6   │ 225.0 │ 105 │ 2.76 │ 3.46  │ 20.22 │\n",
       "\n",
       "│ Row │ VS │ AM │ Gear │ Carb │\n",
       "├─────┼────┼────┼──────┼──────┤\n",
       "│ 1   │ 0  │ 1  │ 4    │ 4    │\n",
       "│ 2   │ 0  │ 1  │ 4    │ 4    │\n",
       "│ 3   │ 1  │ 1  │ 4    │ 1    │\n",
       "│ 4   │ 1  │ 0  │ 3    │ 1    │\n",
       "│ 5   │ 0  │ 0  │ 3    │ 2    │\n",
       "│ 6   │ 1  │ 0  │ 3    │ 1    │"
      ]
     },
     "execution_count": 18,
     "metadata": {},
     "output_type": "execute_result"
    }
   ],
   "source": [
    "using RCall\n",
    "using RDatasets\n",
    "mtcars = dataset(\"datasets\",\"mtcars\")\n",
    "head(mtcars)\n"
   ]
  },
  {
   "cell_type": "code",
   "execution_count": 19,
   "metadata": {},
   "outputs": [
    {
     "data": {
      "image/png": "[encoded data removed]"
     },
     "metadata": {},
     "output_type": "display_data"
    },
    {
     "data": {
      "text/plain": [
       "RCall.RObject{RCall.VecSxp}\n"
      ]
     },
     "execution_count": 19,
     "metadata": {},
     "output_type": "execute_result"
    }
   ],
   "source": [
    "R\"library(ggplot2)\"\n",
    "R\"ggplot($mtcars,aes(x=WT,y=MPG))+geom_point()\"\n",
    "# NB: There exists native plot implementations, some with the same API of ggplot"
   ]
  },
  {
   "cell_type": "code",
   "execution_count": null,
   "metadata": {
    "collapsed": true
   },
   "outputs": [],
   "source": []
  }
 ],
 "metadata": {
  "kernelspec": {
   "display_name": "Julia 0.6.0",
   "language": "julia",
   "name": "julia-0.6"
  },
  "language_info": {
   "file_extension": ".jl",
   "mimetype": "application/julia",
   "name": "julia",
   "version": "0.6.0"
  }
 },
 "nbformat": 4,
 "nbformat_minor": 1
}
