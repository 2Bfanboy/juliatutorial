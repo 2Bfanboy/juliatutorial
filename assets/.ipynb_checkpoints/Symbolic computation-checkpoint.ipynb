{
 "cells": [
  {
   "cell_type": "markdown",
   "metadata": {},
   "source": [
    "# Symbolic computation"
   ]
  },
  {
   "cell_type": "code",
   "execution_count": 41,
   "metadata": {},
   "outputs": [],
   "source": [
    "#Pkg.add(\"SymPy\")\n",
    "using SymPy"
   ]
  },
  {
   "cell_type": "code",
   "execution_count": 42,
   "metadata": {},
   "outputs": [
    {
     "data": {
      "text/plain": [
       "(a, b, c)"
      ]
     },
     "execution_count": 42,
     "metadata": {},
     "output_type": "execute_result"
    }
   ],
   "source": [
    "@vars a b c"
   ]
  },
  {
   "cell_type": "code",
   "execution_count": 43,
   "metadata": {},
   "outputs": [
    {
     "data": {
      "text/plain": [
       "(x, y, z)"
      ]
     },
     "execution_count": 43,
     "metadata": {},
     "output_type": "execute_result"
    }
   ],
   "source": [
    "#we can optionally specify domain with e.g.\n",
    "x,y,z = symbols(\"x, y, z\", real=true) # also integer, positive, negative..."
   ]
  },
  {
   "cell_type": "markdown",
   "metadata": {},
   "source": [
    "### Algebra"
   ]
  },
  {
   "cell_type": "code",
   "execution_count": 44,
   "metadata": {},
   "outputs": [
    {
     "data": {
      "text/latex": [
       "$$x + 2 y$$"
      ],
      "text/plain": [
       "x + 2*y"
      ]
     },
     "execution_count": 44,
     "metadata": {},
     "output_type": "execute_result"
    }
   ],
   "source": [
    "expr = x+2y # note that we do not need to specify 2*y.. this is Julia specific"
   ]
  },
  {
   "cell_type": "code",
   "execution_count": 45,
   "metadata": {},
   "outputs": [
    {
     "data": {
      "text/latex": [
       "$$x \\left(x + 2 y\\right)$$"
      ],
      "text/plain": [
       "x*(x + 2*y)"
      ]
     },
     "execution_count": 45,
     "metadata": {},
     "output_type": "execute_result"
    }
   ],
   "source": [
    "expr2 = x*expr"
   ]
  },
  {
   "cell_type": "code",
   "execution_count": 46,
   "metadata": {},
   "outputs": [
    {
     "data": {
      "text/latex": [
       "$$x^{2} + 2 x y$$"
      ],
      "text/plain": [
       " 2        \n",
       "x  + 2*x*y"
      ]
     },
     "execution_count": 46,
     "metadata": {},
     "output_type": "execute_result"
    }
   ],
   "source": [
    "expanded_expr = expand(x*expr)  # Attenction that without the star it gives wrong results!"
   ]
  },
  {
   "cell_type": "code",
   "execution_count": 47,
   "metadata": {},
   "outputs": [
    {
     "data": {
      "text/latex": [
       "$$x \\left(x + 2 y\\right)$$"
      ],
      "text/plain": [
       "x*(x + 2*y)"
      ]
     },
     "execution_count": 47,
     "metadata": {},
     "output_type": "execute_result"
    }
   ],
   "source": [
    "factor(expanded_expr)"
   ]
  },
  {
   "cell_type": "code",
   "execution_count": 48,
   "metadata": {},
   "outputs": [
    {
     "data": {
      "text/latex": [
       "$$\\left(x + 1\\right)^{2}$$"
      ],
      "text/plain": [
       "       2\n",
       "(x + 1) "
      ]
     },
     "execution_count": 48,
     "metadata": {},
     "output_type": "execute_result"
    }
   ],
   "source": [
    "f = (x+1)^2 # power is ^ and not ** .. again, Julia specific"
   ]
  },
  {
   "cell_type": "code",
   "execution_count": 49,
   "metadata": {},
   "outputs": [
    {
     "data": {
      "text/latex": [
       "$$x^{2} - 2 x + 1$$"
      ],
      "text/plain": [
       " 2          \n",
       "x  - 2*x + 1"
      ]
     },
     "execution_count": 49,
     "metadata": {},
     "output_type": "execute_result"
    }
   ],
   "source": [
    "g = x^2-2x+1"
   ]
  },
  {
   "cell_type": "code",
   "execution_count": 50,
   "metadata": {},
   "outputs": [
    {
     "data": {
      "text/latex": [
       "$$- x^{2} + 2 x + \\left(x + 1\\right)^{2} - 1$$"
      ],
      "text/plain": [
       "   2                2    \n",
       "- x  + 2*x + (x + 1)  - 1"
      ]
     },
     "execution_count": 50,
     "metadata": {},
     "output_type": "execute_result"
    }
   ],
   "source": [
    "f-g"
   ]
  },
  {
   "cell_type": "code",
   "execution_count": 51,
   "metadata": {},
   "outputs": [
    {
     "data": {
      "text/latex": [
       "$$4 x$$"
      ],
      "text/plain": [
       "4*x"
      ]
     },
     "execution_count": 51,
     "metadata": {},
     "output_type": "execute_result"
    }
   ],
   "source": [
    "simplify(f-g)"
   ]
  },
  {
   "cell_type": "code",
   "execution_count": 52,
   "metadata": {},
   "outputs": [
    {
     "data": {
      "text/latex": [
       "$$2 z^{3} + 1$$"
      ],
      "text/plain": [
       "   3    \n",
       "2*z  + 1"
      ]
     },
     "execution_count": 52,
     "metadata": {},
     "output_type": "execute_result"
    }
   ],
   "source": [
    "expr3 = subs(expr, x=>1, y=>z^3) # substitution can be either numeric or symbolic"
   ]
  },
  {
   "cell_type": "code",
   "execution_count": 53,
   "metadata": {},
   "outputs": [
    {
     "data": {
      "text/latex": [
       "\\begin{bmatrix}- \\frac{x}{2}\\end{bmatrix}"
      ],
      "text/plain": [
       "1-element Array{SymPy.Sym,1}:\n",
       " -x/2"
      ]
     },
     "execution_count": 53,
     "metadata": {},
     "output_type": "execute_result"
    }
   ],
   "source": [
    "solve(expr2,y) # by default solve the equation f(.) = 0"
   ]
  },
  {
   "cell_type": "code",
   "execution_count": 54,
   "metadata": {},
   "outputs": [
    {
     "data": {
      "text/latex": [
       "\\begin{bmatrix}0\\\\- 2 y\\end{bmatrix}"
      ],
      "text/plain": [
       "2-element Array{SymPy.Sym,1}:\n",
       "    0\n",
       " -2*y"
      ]
     },
     "execution_count": 54,
     "metadata": {},
     "output_type": "execute_result"
    }
   ],
   "source": [
    "solve(expr2,x)"
   ]
  },
  {
   "cell_type": "code",
   "execution_count": 55,
   "metadata": {},
   "outputs": [
    {
     "data": {
      "text/latex": [
       "$$x \\left(x + 2 y\\right) = 2$$"
      ],
      "text/plain": [
       "x*(x + 2*y) = 2"
      ]
     },
     "execution_count": 55,
     "metadata": {},
     "output_type": "execute_result"
    }
   ],
   "source": [
    "Eq(expr2,2) # create an equation object"
   ]
  },
  {
   "cell_type": "code",
   "execution_count": 56,
   "metadata": {},
   "outputs": [
    {
     "data": {
      "text/latex": [
       "\\begin{bmatrix}- \\frac{x}{2} + \\frac{1}{x}\\end{bmatrix}"
      ],
      "text/plain": [
       "1-element Array{SymPy.Sym,1}:\n",
       " -x/2 + 1/x"
      ]
     },
     "execution_count": 56,
     "metadata": {},
     "output_type": "execute_result"
    }
   ],
   "source": [
    "solve(Eq(expr2,2),y)"
   ]
  },
  {
   "cell_type": "code",
   "execution_count": 57,
   "metadata": {},
   "outputs": [
    {
     "data": {
      "text/plain": [
       "1-element Array{Dict{SymPy.Sym,SymPy.Sym},1}:\n",
       " Dict(x=>1,y=>-1/2)"
      ]
     },
     "execution_count": 57,
     "metadata": {},
     "output_type": "execute_result"
    }
   ],
   "source": [
    "solve([expr,g],[x,y]) # solve systems of equations in multiple variables"
   ]
  },
  {
   "cell_type": "markdown",
   "metadata": {},
   "source": [
    "### Matrix algebra\n",
    " - matrices are just Julian matrices with symbolic entries\n",
    " - constructing matrices then follows Julia's conventions\n",
    " - compared with \"plain\" Julia\" here we can do symbolic operations, not just numeric ones"
   ]
  },
  {
   "cell_type": "code",
   "execution_count": 58,
   "metadata": {},
   "outputs": [
    {
     "data": {
      "text/latex": [
       "\\begin{bmatrix}1&4\\\\2&5\\\\x&x\\end{bmatrix}"
      ],
      "text/plain": [
       "3×2 Array{SymPy.Sym,2}:\n",
       " 1  4\n",
       " 2  5\n",
       " x  x"
      ]
     },
     "execution_count": 58,
     "metadata": {},
     "output_type": "execute_result"
    }
   ],
   "source": [
    "M = [[1,2,x] [4,5,x]]"
   ]
  },
  {
   "cell_type": "code",
   "execution_count": 59,
   "metadata": {},
   "outputs": [
    {
     "data": {
      "text/latex": [
       "\\begin{bmatrix}x&3&5\\\\2&4&6\\end{bmatrix}"
      ],
      "text/plain": [
       "2×3 Array{SymPy.Sym,2}:\n",
       " x  3  5\n",
       " 2  4  6"
      ]
     },
     "execution_count": 59,
     "metadata": {},
     "output_type": "execute_result"
    }
   ],
   "source": [
    "N = [[x,2] [3,4] [5,6]]"
   ]
  },
  {
   "cell_type": "code",
   "execution_count": 60,
   "metadata": {},
   "outputs": [
    {
     "data": {
      "text/latex": [
       "\\begin{bmatrix}x + 8&19&29\\\\2 x + 10&26&40\\\\x^{2} + 2 x&7 x&11 x\\end{bmatrix}"
      ],
      "text/plain": [
       "3×3 Array{SymPy.Sym,2}:\n",
       "     x + 8   19    29\n",
       "  2*x + 10   26    40\n",
       " x^2 + 2*x  7*x  11*x"
      ]
     },
     "execution_count": 60,
     "metadata": {},
     "output_type": "execute_result"
    }
   ],
   "source": [
    "M*N"
   ]
  },
  {
   "cell_type": "code",
   "execution_count": 61,
   "metadata": {},
   "outputs": [
    {
     "data": {
      "text/latex": [
       "$$\\left(26 - \\frac{38 x + 190}{x + 8}\\right) \\left(x + 8\\right) \\left(11 x - \\frac{29 x^{2} + 58 x}{x + 8} - \\frac{1}{26 - \\frac{38 x + 190}{x + 8}} \\left(40 - \\frac{58 x + 290}{x + 8}\\right) \\left(7 x - \\frac{19 x^{2} + 38 x}{x + 8}\\right)\\right)$$"
      ],
      "text/plain": [
       "                             /                                            /   \n",
       "                             |                       /     29*(2*x + 10)\\ |   \n",
       "                             |          / 2      \\   |40 - -------------|*|7*x\n",
       "/     19*(2*x + 10)\\         |       29*\\x  + 2*x/   \\         x + 8    / \\   \n",
       "|26 - -------------|*(x + 8)*|11*x - ------------- - -------------------------\n",
       "\\         x + 8    /         |           x + 8                        19*(2*x \n",
       "                             |                                   26 - --------\n",
       "                             \\                                            x + \n",
       "\n",
       "      / 2      \\\\\\\n",
       "   19*\\x  + 2*x/||\n",
       " - -------------||\n",
       "       x + 8    /|\n",
       "-----------------|\n",
       "+ 10)            |\n",
       "-----            |\n",
       "8                /"
      ]
     },
     "execution_count": 61,
     "metadata": {},
     "output_type": "execute_result"
    }
   ],
   "source": [
    "det(M*N)"
   ]
  },
  {
   "cell_type": "code",
   "execution_count": 62,
   "metadata": {},
   "outputs": [
    {
     "data": {
      "text/latex": [
       "\\begin{bmatrix}x\\\\y\\\\2\\end{bmatrix}"
      ],
      "text/plain": [
       "3-element Array{SymPy.Sym,1}:\n",
       " x\n",
       " y\n",
       " 2"
      ]
     },
     "execution_count": 62,
     "metadata": {},
     "output_type": "execute_result"
    }
   ],
   "source": [
    "d = [a,b,3]\n",
    "e = [x,y,2]"
   ]
  },
  {
   "cell_type": "code",
   "execution_count": 63,
   "metadata": {},
   "outputs": [
    {
     "data": {
      "text/latex": [
       "$$x \\overline{a} + y \\overline{b} + 6$$"
      ],
      "text/plain": [
       "  _     _    \n",
       "x*a + y*b + 6"
      ]
     },
     "execution_count": 63,
     "metadata": {},
     "output_type": "execute_result"
    }
   ],
   "source": [
    "k = d' * e"
   ]
  },
  {
   "cell_type": "code",
   "execution_count": 64,
   "metadata": {},
   "outputs": [
    {
     "data": {
      "text/latex": [
       "\\begin{bmatrix}a x&a y&2 a\\\\b x&b y&2 b\\\\3 x&3 y&6\\end{bmatrix}"
      ],
      "text/plain": [
       "3×3 Array{SymPy.Sym,2}:\n",
       " a*x  a*y  2*a\n",
       " b*x  b*y  2*b\n",
       " 3*x  3*y    6"
      ]
     },
     "execution_count": 64,
     "metadata": {},
     "output_type": "execute_result"
    }
   ],
   "source": [
    "j = d * e'"
   ]
  },
  {
   "cell_type": "markdown",
   "metadata": {},
   "source": [
    "### Calculus"
   ]
  },
  {
   "cell_type": "code",
   "execution_count": 65,
   "metadata": {},
   "outputs": [
    {
     "data": {
      "text/latex": [
       "$$a x^{2} + 3 c - 4 x$$"
      ],
      "text/plain": [
       "   2            \n",
       "a*x  + 3*c - 4*x"
      ]
     },
     "execution_count": 65,
     "metadata": {},
     "output_type": "execute_result"
    }
   ],
   "source": [
    "f = a*x^2-4x+3c"
   ]
  },
  {
   "cell_type": "code",
   "execution_count": 66,
   "metadata": {},
   "outputs": [
    {
     "data": {
      "text/latex": [
       "$$2 a x - 4$$"
      ],
      "text/plain": [
       "2*a*x - 4"
      ]
     },
     "execution_count": 66,
     "metadata": {},
     "output_type": "execute_result"
    }
   ],
   "source": [
    "diff(f,x)"
   ]
  },
  {
   "cell_type": "code",
   "execution_count": 67,
   "metadata": {},
   "outputs": [
    {
     "data": {
      "text/latex": [
       "\\begin{bmatrix}\\frac{2}{a}\\end{bmatrix}"
      ],
      "text/plain": [
       "1-element Array{SymPy.Sym,1}:\n",
       " 2/a"
      ]
     },
     "execution_count": 67,
     "metadata": {},
     "output_type": "execute_result"
    }
   ],
   "source": [
    "solve(diff(f,x),x) # find FOC"
   ]
  },
  {
   "cell_type": "code",
   "execution_count": 68,
   "metadata": {},
   "outputs": [
    {
     "data": {
      "text/latex": [
       "$$\\frac{a x^{3}}{3} + 3 c x - 2 x^{2}$$"
      ],
      "text/plain": [
       "   3               \n",
       "a*x               2\n",
       "---- + 3*c*x - 2*x \n",
       " 3                 "
      ]
     },
     "execution_count": 68,
     "metadata": {},
     "output_type": "execute_result"
    }
   ],
   "source": [
    "integrate(f,x)"
   ]
  },
  {
   "cell_type": "code",
   "execution_count": 69,
   "metadata": {},
   "outputs": [
    {
     "data": {
      "text/latex": [
       "$$\\frac{56 a}{3} + 6 c - 24$$"
      ],
      "text/plain": [
       "56*a           \n",
       "---- + 6*c - 24\n",
       " 3             "
      ]
     },
     "execution_count": 69,
     "metadata": {},
     "output_type": "execute_result"
    }
   ],
   "source": [
    "integrate(f,(x,2,4)) # definite integral between x=2 and x=4 "
   ]
  },
  {
   "cell_type": "markdown",
   "metadata": {},
   "source": [
    "## An application: derive Faustmann formula"
   ]
  },
  {
   "cell_type": "code",
   "execution_count": 70,
   "metadata": {},
   "outputs": [
    {
     "data": {
      "text/plain": [
       "(t, k, r, p, NPV)"
      ]
     },
     "execution_count": 70,
     "metadata": {},
     "output_type": "execute_result"
    }
   ],
   "source": [
    "@vars t k r p NPV       # time, planting costs, interest rate, timber price, Net Present Value (as symbol)"
   ]
  },
  {
   "cell_type": "code",
   "execution_count": 71,
   "metadata": {},
   "outputs": [
    {
     "data": {
      "text/plain": [
       "(,)"
      ]
     },
     "execution_count": 71,
     "metadata": {},
     "output_type": "execute_result"
    }
   ],
   "source": [
    "@symfuns S              # generic function for stock "
   ]
  },
  {
   "cell_type": "markdown",
   "metadata": {},
   "source": [
    "### Net Present Value \n",
    "- $PV ~=~ \\frac{b}{(1+r)^t-1}$\n",
    "- $b ~=~  {p S\\{t\\} - k (1+r)^t}$"
   ]
  },
  {
   "cell_type": "code",
   "execution_count": 72,
   "metadata": {},
   "outputs": [
    {
     "name": "stdout",
     "output_type": "stream",
     "text": [
      "S\n"
     ]
    },
    {
     "data": {
      "text/latex": [
       "$$\\frac{1}{1 - e^{- r t}} \\left(- k + p S{\\left (t \\right )} e^{- r t}\\right)$$"
      ],
      "text/plain": [
       "             -r*t\n",
       "-k + p*S(t)*e    \n",
       "-----------------\n",
       "         -r*t    \n",
       "    1 - e        "
      ]
     },
     "execution_count": 72,
     "metadata": {},
     "output_type": "execute_result"
    }
   ],
   "source": [
    "NPVf = ( p * S(t) * exp(-r*t)-k)/ (1-exp(-r*t))"
   ]
  },
  {
   "cell_type": "code",
   "execution_count": 73,
   "metadata": {},
   "outputs": [
    {
     "data": {
      "text/latex": [
       "$$- \\frac{r e^{- r t}}{\\left(1 - e^{- r t}\\right)^{2}} \\left(- k + p S{\\left (t \\right )} e^{- r t}\\right) + \\frac{1}{1 - e^{- r t}} \\left(- p r S{\\left (t \\right )} e^{- r t} + p e^{- r t} \\frac{d}{d t} S{\\left (t \\right )}\\right)$$"
      ],
      "text/plain": [
       "                                            -r*t      -r*t d       \n",
       "    /             -r*t\\  -r*t   - p*r*S(t)*e     + p*e    *--(S(t))\n",
       "  r*\\-k + p*S(t)*e    /*e                                  dt      \n",
       "- --------------------------- + -----------------------------------\n",
       "                     2                            -r*t             \n",
       "          /     -r*t\\                        1 - e                 \n",
       "          \\1 - e    /                                              "
      ]
     },
     "execution_count": 73,
     "metadata": {},
     "output_type": "execute_result"
    }
   ],
   "source": [
    "# Derivative of NPV with respect to time\n",
    "NPVt = diff(NPVf,t)"
   ]
  },
  {
   "cell_type": "code",
   "execution_count": 74,
   "metadata": {},
   "outputs": [
    {
     "data": {
      "text/latex": [
       "$$- \\frac{r e^{- r t}}{\\left(1 - e^{- r t}\\right)^{2}} \\left(- k + p S{\\left (t \\right )} e^{- r t}\\right) + \\frac{1}{1 - e^{- r t}} \\left(- p r S{\\left (t \\right )} e^{- r t} + p e^{- r t} \\frac{d}{d t} S{\\left (t \\right )}\\right) = 0$$"
      ],
      "text/plain": [
       "                                            -r*t      -r*t d           \n",
       "    /             -r*t\\  -r*t   - p*r*S(t)*e     + p*e    *--(S(t))    \n",
       "  r*\\-k + p*S(t)*e    /*e                                  dt          \n",
       "- --------------------------- + ----------------------------------- = 0\n",
       "                     2                            -r*t                 \n",
       "          /     -r*t\\                        1 - e                     \n",
       "          \\1 - e    /                                                  "
      ]
     },
     "execution_count": 74,
     "metadata": {},
     "output_type": "execute_result"
    }
   ],
   "source": [
    "# Equation of derivative of NPV equal to zero\n",
    "NPVteq = Eq(NPVt,0)"
   ]
  },
  {
   "cell_type": "code",
   "execution_count": 75,
   "metadata": {},
   "outputs": [
    {
     "data": {
      "text/latex": [
       "\\begin{bmatrix}\\frac{r e^{r t}}{e^{r t} - 1} \\left(- k + p S{\\left (t \\right )}\\right)\\end{bmatrix}"
      ],
      "text/plain": [
       "1-element Array{SymPy.Sym,1}:\n",
       " r*(-k + p*S(t))*exp(r*t)/(exp(r*t) - 1)"
      ]
     },
     "execution_count": 75,
     "metadata": {},
     "output_type": "execute_result"
    }
   ],
   "source": [
    "# Rewriting the equation with the value derivative as dependent variable  (V' = pS')\n",
    "Vt = solve(NPVteq,p*Derivative(S(t), t)) # V' = f(pS,r,k,t)"
   ]
  },
  {
   "cell_type": "code",
   "execution_count": 76,
   "metadata": {},
   "outputs": [
    {
     "data": {
      "text/latex": [
       "$$\\frac{1}{1 - e^{- r t}} \\left(- k + p S{\\left (t \\right )} e^{- r t}\\right) = NPV$$"
      ],
      "text/plain": [
       "             -r*t      \n",
       "-k + p*S(t)*e          \n",
       "----------------- = NPV\n",
       "         -r*t          \n",
       "    1 - e              "
      ]
     },
     "execution_count": 76,
     "metadata": {},
     "output_type": "execute_result"
    }
   ],
   "source": [
    "# Setting the \"symbol\" NPV equal to the NPV function\n",
    "# (because we want to keep in the final output the result in term of NPV)\n",
    "NPVeq = Eq(NPVf,NPV)"
   ]
  },
  {
   "cell_type": "code",
   "execution_count": 77,
   "metadata": {},
   "outputs": [
    {
     "data": {
      "text/latex": [
       "$$\\left(- NPV e^{r t} + NPV + p S{\\left (t \\right )}\\right) e^{- r t}$$"
      ],
      "text/plain": [
       "/       r*t               \\  -r*t\n",
       "\\- NPV*e    + NPV + p*S(t)/*e    "
      ]
     },
     "execution_count": 77,
     "metadata": {},
     "output_type": "execute_result"
    }
   ],
   "source": [
    "# Solve the equation NPV==NPVb with respect to k, which has a unique solution as a function of NPV\n",
    "k_NPV = solve(NPVeq, k)[1] # k = f(NPV)"
   ]
  },
  {
   "cell_type": "code",
   "execution_count": 78,
   "metadata": {},
   "outputs": [
    {
     "data": {
      "text/latex": [
       "$$\\frac{r e^{r t}}{e^{r t} - 1} \\left(p S{\\left (t \\right )} - \\left(- NPV e^{r t} + NPV + p S{\\left (t \\right )}\\right) e^{- r t}\\right)$$"
      ],
      "text/plain": [
       "  /         /       r*t               \\  -r*t\\  r*t\n",
       "r*\\p*S(t) - \\- NPV*e    + NPV + p*S(t)/*e    /*e   \n",
       "---------------------------------------------------\n",
       "                       r*t                         \n",
       "                      e    - 1                     "
      ]
     },
     "execution_count": 78,
     "metadata": {},
     "output_type": "execute_result"
    }
   ],
   "source": [
    "# Now substitute k\n",
    "VtNPV = subs(Vt[1], k=>k_NPV) # V' = f(NPV)"
   ]
  },
  {
   "cell_type": "code",
   "execution_count": 79,
   "metadata": {},
   "outputs": [
    {
     "data": {
      "text/latex": [
       "$$r \\left(NPV + p S{\\left (t \\right )}\\right)$$"
      ],
      "text/plain": [
       "r*(NPV + p*S(t))"
      ]
     },
     "execution_count": 79,
     "metadata": {},
     "output_type": "execute_result"
    }
   ],
   "source": [
    "# Now simplify\n",
    "VtNPV2 = simplify(VtNPV) # pS' = f(pS, NPV, r)"
   ]
  },
  {
   "cell_type": "code",
   "execution_count": 80,
   "metadata": {},
   "outputs": [
    {
     "data": {
      "text/latex": [
       "$$NPV r + p r S{\\left (t \\right )}$$"
      ],
      "text/plain": [
       "NPV*r + p*r*S(t)"
      ]
     },
     "execution_count": 80,
     "metadata": {},
     "output_type": "execute_result"
    }
   ],
   "source": [
    "# Now expand\n",
    "expand(VtNPV2) # pS' = f(pS, NPV, r)"
   ]
  }
 ],
 "metadata": {
  "kernelspec": {
   "display_name": "Julia 0.6.0",
   "language": "julia",
   "name": "julia-0.6"
  },
  "language_info": {
   "file_extension": ".jl",
   "mimetype": "application/julia",
   "name": "julia",
   "version": "0.6.0"
  }
 },
 "nbformat": 4,
 "nbformat_minor": 1
}
