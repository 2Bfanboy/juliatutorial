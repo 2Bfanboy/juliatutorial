{
 "cells": [
  {
   "cell_type": "markdown",
   "metadata": {},
   "source": [
    "# Dataframes"
   ]
  },
  {
   "cell_type": "code",
   "execution_count": 3,
   "metadata": {
    "collapsed": false
   },
   "outputs": [
    {
     "data": {
      "text/plain": [
       "Plots.PlotlyJSBackend()"
      ]
     },
     "execution_count": 3,
     "metadata": {},
     "output_type": "execute_result"
    }
   ],
   "source": [
    "using DataFrames, Plots, StatPlots, DataFramesMeta\n",
    "plotlyjs() # To load again call init_notebook(true)"
   ]
  },
  {
   "cell_type": "code",
   "execution_count": 2,
   "metadata": {
    "collapsed": false
   },
   "outputs": [
    {
     "data": {
      "text/html": [
       "<table class=\"data-frame\"><thead><tr><th></th><th>product</th><th>year</th><th>production</th><th>consumption</th></tr></thead><tbody><tr><th>1</th><td>hardWSawnW</td><td>2010</td><td>120</td><td>70</td></tr><tr><th>2</th><td>hardWSawnW</td><td>2011</td><td>150</td><td>90</td></tr><tr><th>3</th><td>hardWSawnW</td><td>2012</td><td>170</td><td>100</td></tr><tr><th>4</th><td>hardWSawnW</td><td>2013</td><td>160</td><td>95</td></tr><tr><th>5</th><td>softWSawnW</td><td>2010</td><td>100</td><td>80</td></tr><tr><th>6</th><td>softWSawnW</td><td>2011</td><td>130</td><td>95</td></tr><tr><th>7</th><td>softWSawnW</td><td>2012</td><td>165</td><td>110</td></tr><tr><th>8</th><td>softWSawnW</td><td>2013</td><td>158</td><td>120</td></tr></tbody></table>"
      ],
      "text/plain": [
       "8×4 DataFrames.DataFrame\n",
       "│ Row │ product      │ year │ production │ consumption │\n",
       "├─────┼──────────────┼──────┼────────────┼─────────────┤\n",
       "│ 1   │ \"hardWSawnW\" │ 2010 │ 120        │ 70          │\n",
       "│ 2   │ \"hardWSawnW\" │ 2011 │ 150        │ 90          │\n",
       "│ 3   │ \"hardWSawnW\" │ 2012 │ 170        │ 100         │\n",
       "│ 4   │ \"hardWSawnW\" │ 2013 │ 160        │ 95          │\n",
       "│ 5   │ \"softWSawnW\" │ 2010 │ 100        │ 80          │\n",
       "│ 6   │ \"softWSawnW\" │ 2011 │ 130        │ 95          │\n",
       "│ 7   │ \"softWSawnW\" │ 2012 │ 165        │ 110         │\n",
       "│ 8   │ \"softWSawnW\" │ 2013 │ 158        │ 120         │"
      ]
     },
     "execution_count": 2,
     "metadata": {},
     "output_type": "execute_result"
    }
   ],
   "source": [
    "df = DataFrame(\n",
    "  product       = [\"hardWSawnW\",\"hardWSawnW\",\"hardWSawnW\",\"hardWSawnW\",\"softWSawnW\",\"softWSawnW\",\"softWSawnW\",\"softWSawnW\"],\n",
    "  year        = [2010,2011,2012,2013,2010,2011,2012,2013],\n",
    "  production  = [120,150,170,160,100,130,165,158],\n",
    "  consumption = [70,90,100,95, 80,95,110,120]\n",
    ")\n",
    "# or myData = readtable(\"mydatafile.csv\", separator = ';')"
   ]
  },
  {
   "cell_type": "markdown",
   "metadata": {},
   "source": [
    "## Get insights about the data:"
   ]
  },
  {
   "cell_type": "code",
   "execution_count": 3,
   "metadata": {
    "collapsed": false
   },
   "outputs": [
    {
     "name": "stdout",
     "output_type": "stream",
     "text": [
      "product\n",
      "Length  8\n",
      "Type    String\n",
      "NAs     0\n",
      "NA%     0.0%\n",
      "Unique  2\n",
      "\n",
      "year\n",
      "Min      2010.0\n",
      "1st Qu.  2010.75\n",
      "Median   2011.5\n",
      "Mean     2011.5\n",
      "3rd Qu.  2012.25\n",
      "Max      2013.0\n",
      "NAs      0\n",
      "NA%      0.0%\n",
      "\n",
      "production\n",
      "Min      100.0\n",
      "1st Qu.  127.5\n",
      "Median   154.0\n",
      "Mean     144.125\n",
      "3rd Qu.  161.25\n",
      "Max      170.0\n",
      "NAs      0\n",
      "NA%      0.0%\n",
      "\n",
      "consumption\n",
      "Min      70.0\n",
      "1st Qu.  87.5\n",
      "Median   95.0\n",
      "Mean     95.0\n",
      "3rd Qu.  102.5\n",
      "Max      120.0\n",
      "NAs      0\n",
      "NA%      0.0%\n",
      "\n"
     ]
    }
   ],
   "source": [
    "describe(df)"
   ]
  },
  {
   "cell_type": "code",
   "execution_count": 4,
   "metadata": {
    "collapsed": false
   },
   "outputs": [
    {
     "data": {
      "text/html": [
       "<div id=\"f22cb614-bdbb-41e1-9a70-ace99bd86643\" class=\"plotly-graph-div\"></div>\n",
       "\n",
       "<script>\n",
       "    window.PLOTLYENV=window.PLOTLYENV || {};\n",
       "    window.PLOTLYENV.BASE_URL=\"https://plot.ly\";\n",
       "    require(['plotly'], function(Plotly) {\n",
       "        Plotly.newPlot('f22cb614-bdbb-41e1-9a70-ace99bd86643', [{\"yaxis\":\"y\",\"y\":[120,150,170,160],\"showlegend\":true,\"name\":\"Production of hardWSawnW\",\"type\":\"scatter\",\"xaxis\":\"x\",\"line\":{\"width\":3,\"dash\":\"solid\",\"color\":\"rgba(0, 128, 0, 1.000)\",\"shape\":\"linear\"},\"x\":[2010,2011,2012,2013],\"mode\":\"lines\"},{\"yaxis\":\"y\",\"y\":[100,130,165,158],\"showlegend\":true,\"name\":\"Production of softWSawnW\",\"type\":\"scatter\",\"xaxis\":\"x\",\"line\":{\"width\":3,\"dash\":\"solid\",\"color\":\"rgba(255, 165, 0, 1.000)\",\"shape\":\"linear\"},\"x\":[2010,2011,2012,2013],\"mode\":\"lines\"},{\"yaxis\":\"y\",\"y\":[70,90,100,95],\"showlegend\":true,\"name\":\"Consumption of hardWSawnW\",\"type\":\"scatter\",\"xaxis\":\"x\",\"line\":{\"width\":3,\"dash\":\"dot\",\"color\":\"rgba(0, 128, 0, 1.000)\",\"shape\":\"linear\"},\"x\":[2010,2011,2012,2013],\"mode\":\"lines\"},{\"yaxis\":\"y\",\"y\":[80,95,110,120],\"showlegend\":true,\"name\":\"Consumption of softWSawnW\",\"type\":\"scatter\",\"xaxis\":\"x\",\"line\":{\"width\":3,\"dash\":\"dot\",\"color\":\"rgba(255, 165, 0, 1.000)\",\"shape\":\"linear\"},\"x\":[2010,2011,2012,2013],\"mode\":\"lines\"}],\n",
       "               {\"yaxis\":{\"type\":\"-\",\"titlefont\":{\"size\":15,\"color\":\"rgba(0, 0, 0, 1.000)\",\"family\":\"sans-serif\"},\"title\":\"consumption\",\"tickfont\":{\"size\":11,\"color\":\"rgba(0, 0, 0, 1.000)\",\"family\":\"sans-serif\"},\"ticks\":\"inside\",\"tickmode\":\"array\",\"showgrid\":true,\"tickvals\":[100.0,150.0],\"domain\":[0.07581474190726165,0.9901574803149606],\"ticktext\":[\"100\",\"150\"],\"tickangle\":0,\"zeroline\":false,\"linecolor\":\"rgba(0, 0, 0, 1.000)\",\"tickcolor\":\"rgba(0, 0, 0, 1.000)\",\"anchor\":\"x\"},\"annotations\":[],\"width\":600,\"plot_bgcolor\":\"rgba(255, 255, 255, 1.000)\",\"showlegend\":true,\"legend\":{\"bgcolor\":\"rgba(255, 255, 255, 1.000)\",\"y\":1.0,\"font\":{\"size\":11,\"color\":\"rgba(0, 0, 0, 1.000)\",\"family\":\"sans-serif\"},\"bordercolor\":\"rgba(0, 0, 0, 1.000)\",\"x\":1.0},\"xaxis\":{\"type\":\"-\",\"titlefont\":{\"size\":15,\"color\":\"rgba(0, 0, 0, 1.000)\",\"family\":\"sans-serif\"},\"title\":\"year\",\"tickfont\":{\"size\":11,\"color\":\"rgba(0, 0, 0, 1.000)\",\"family\":\"sans-serif\"},\"ticks\":\"inside\",\"tickmode\":\"array\",\"showgrid\":true,\"tickvals\":[2010.0,2010.5,2011.0,2011.5,2012.0,2012.5,2013.0],\"domain\":[0.07646908719743364,0.9934383202099737],\"ticktext\":[\"2010.0\",\"2010.5\",\"2011.0\",\"2011.5\",\"2012.0\",\"2012.5\",\"2013.0\"],\"tickangle\":0,\"zeroline\":false,\"linecolor\":\"rgba(0, 0, 0, 1.000)\",\"tickcolor\":\"rgba(0, 0, 0, 1.000)\",\"anchor\":\"y\"},\"paper_bgcolor\":\"rgba(255, 255, 255, 1.000)\",\"margin\":{\"r\":0,\"l\":0,\"b\":0,\"t\":20},\"height\":400}, {showLink: false});\n",
       "\n",
       "    });\n",
       " </script>\n"
      ]
     },
     "execution_count": 4,
     "metadata": {},
     "output_type": "execute_result"
    }
   ],
   "source": [
    "# plot multiple groups of series\n",
    "mycolours = [:green :orange] # note that the serie is piled up alphabetically\n",
    "fruits_plot = plot(df, :year, :production, group=:product, linestyle = :solid, linewidth=3, label = (\"Production of \" * sort(unique(df[:product]))'), color=mycolours)\n",
    "plot!(df, :year, :consumption, group=:product, linestyle = :dot, linewidth=3, label = (\"Consumption of \" * sort(unique(df[:product]))'), color=mycolours)"
   ]
  },
  {
   "cell_type": "markdown",
   "metadata": {},
   "source": [
    "## Edit/modify data"
   ]
  },
  {
   "cell_type": "code",
   "execution_count": 5,
   "metadata": {
    "collapsed": false
   },
   "outputs": [
    {
     "data": {
      "text/html": [
       "<table class=\"data-frame\"><thead><tr><th></th><th>product</th><th>year</th><th>production</th><th>consumption</th></tr></thead><tbody><tr><th>1</th><td>hardWSawnW</td><td>2010</td><td>200</td><td>70</td></tr><tr><th>2</th><td>hardWSawnW</td><td>2011</td><td>150</td><td>90</td></tr><tr><th>3</th><td>hardWSawnW</td><td>2012</td><td>170</td><td>100</td></tr><tr><th>4</th><td>hardWSawnW</td><td>2013</td><td>160</td><td>95</td></tr><tr><th>5</th><td>softWSawnW</td><td>2010</td><td>100</td><td>80</td></tr><tr><th>6</th><td>softWSawnW</td><td>2011</td><td>130</td><td>95</td></tr><tr><th>7</th><td>softWSawnW</td><td>2012</td><td>165</td><td>110</td></tr><tr><th>8</th><td>softWSawnW</td><td>2013</td><td>158</td><td>120</td></tr></tbody></table>"
      ],
      "text/plain": [
       "8×4 DataFrames.DataFrame\n",
       "│ Row │ product      │ year │ production │ consumption │\n",
       "├─────┼──────────────┼──────┼────────────┼─────────────┤\n",
       "│ 1   │ \"hardWSawnW\" │ 2010 │ 200        │ 70          │\n",
       "│ 2   │ \"hardWSawnW\" │ 2011 │ 150        │ 90          │\n",
       "│ 3   │ \"hardWSawnW\" │ 2012 │ 170        │ 100         │\n",
       "│ 4   │ \"hardWSawnW\" │ 2013 │ 160        │ 95          │\n",
       "│ 5   │ \"softWSawnW\" │ 2010 │ 100        │ 80          │\n",
       "│ 6   │ \"softWSawnW\" │ 2011 │ 130        │ 95          │\n",
       "│ 7   │ \"softWSawnW\" │ 2012 │ 165        │ 110         │\n",
       "│ 8   │ \"softWSawnW\" │ 2013 │ 158        │ 120         │"
      ]
     },
     "execution_count": 5,
     "metadata": {},
     "output_type": "execute_result"
    }
   ],
   "source": [
    "# Change a single value\n",
    "df[1,:production] = 200\n",
    "df"
   ]
  },
  {
   "cell_type": "code",
   "execution_count": 6,
   "metadata": {
    "collapsed": false
   },
   "outputs": [
    {
     "data": {
      "text/plain": [
       "1:8"
      ]
     },
     "execution_count": 6,
     "metadata": {},
     "output_type": "execute_result"
    }
   ],
   "source": [
    "# Add an \"id\" column (useful for unstacking)\n",
    "df[:id] = 1:size(df, 1) "
   ]
  },
  {
   "cell_type": "code",
   "execution_count": 7,
   "metadata": {
    "collapsed": false
   },
   "outputs": [
    {
     "data": {
      "text/html": [
       "<table class=\"data-frame\"><thead><tr><th></th><th>product</th><th>year</th><th>production</th><th>consumption</th><th>id</th></tr></thead><tbody><tr><th>1</th><td>hardWSawnW</td><td>2010</td><td>200</td><td>70</td><td>1</td></tr><tr><th>2</th><td>hardWSawnW</td><td>2011</td><td>150</td><td>90</td><td>2</td></tr><tr><th>3</th><td>hardWSawnW</td><td>2012</td><td>170</td><td>100</td><td>3</td></tr><tr><th>4</th><td>hardWSawnW</td><td>2013</td><td>160</td><td>95</td><td>4</td></tr></tbody></table>"
      ],
      "text/plain": [
       "4×5 DataFrames.DataFrame\n",
       "│ Row │ product      │ year │ production │ consumption │ id │\n",
       "├─────┼──────────────┼──────┼────────────┼─────────────┼────┤\n",
       "│ 1   │ \"hardWSawnW\" │ 2010 │ 200        │ 70          │ 1  │\n",
       "│ 2   │ \"hardWSawnW\" │ 2011 │ 150        │ 90          │ 2  │\n",
       "│ 3   │ \"hardWSawnW\" │ 2012 │ 170        │ 100         │ 3  │\n",
       "│ 4   │ \"hardWSawnW\" │ 2013 │ 160        │ 95          │ 4  │"
      ]
     },
     "execution_count": 7,
     "metadata": {},
     "output_type": "execute_result"
    }
   ],
   "source": [
    "# Filter by value - boolean selection\n",
    "df[df[:product] .== \"hardWSawnW\", :]"
   ]
  },
  {
   "cell_type": "code",
   "execution_count": 8,
   "metadata": {
    "collapsed": false
   },
   "outputs": [
    {
     "data": {
      "text/html": [
       "<table class=\"data-frame\"><thead><tr><th></th><th>product</th><th>year</th><th>production</th><th>consumption</th><th>id</th></tr></thead><tbody><tr><th>1</th><td>hardWSawnW</td><td>2010</td><td>200</td><td>70</td><td>1</td></tr><tr><th>2</th><td>hardWSawnW</td><td>2011</td><td>150</td><td>90</td><td>2</td></tr><tr><th>3</th><td>softWSawnW</td><td>2010</td><td>100</td><td>80</td><td>5</td></tr><tr><th>4</th><td>softWSawnW</td><td>2011</td><td>130</td><td>95</td><td>6</td></tr></tbody></table>"
      ],
      "text/plain": [
       "4×5 DataFrames.DataFrame\n",
       "│ Row │ product      │ year │ production │ consumption │ id │\n",
       "├─────┼──────────────┼──────┼────────────┼─────────────┼────┤\n",
       "│ 1   │ \"hardWSawnW\" │ 2010 │ 200        │ 70          │ 1  │\n",
       "│ 2   │ \"hardWSawnW\" │ 2011 │ 150        │ 90          │ 2  │\n",
       "│ 3   │ \"softWSawnW\" │ 2010 │ 100        │ 80          │ 5  │\n",
       "│ 4   │ \"softWSawnW\" │ 2011 │ 130        │ 95          │ 6  │"
      ]
     },
     "execution_count": 8,
     "metadata": {},
     "output_type": "execute_result"
    }
   ],
   "source": [
    "# Filter by value - boolean selection using comprehension\n",
    "df[ [y in [2010,2011] for y in df[:year]], :]"
   ]
  },
  {
   "cell_type": "code",
   "execution_count": 9,
   "metadata": {
    "collapsed": false
   },
   "outputs": [
    {
     "data": {
      "text/html": [
       "<table class=\"data-frame\"><thead><tr><th></th><th>product</th><th>year</th><th>production</th><th>consumption</th><th>id</th></tr></thead><tbody><tr><th>1</th><td>hardWSawnW</td><td>2012</td><td>170</td><td>100</td><td>3</td></tr><tr><th>2</th><td>hardWSawnW</td><td>2013</td><td>160</td><td>95</td><td>4</td></tr></tbody></table>"
      ],
      "text/plain": [
       "2×5 DataFrames.DataFrame\n",
       "│ Row │ product      │ year │ production │ consumption │ id │\n",
       "├─────┼──────────────┼──────┼────────────┼─────────────┼────┤\n",
       "│ 1   │ \"hardWSawnW\" │ 2012 │ 170        │ 100         │ 3  │\n",
       "│ 2   │ \"hardWSawnW\" │ 2013 │ 160        │ 95          │ 4  │"
      ]
     },
     "execution_count": 9,
     "metadata": {},
     "output_type": "execute_result"
    }
   ],
   "source": [
    "# Filter by value - using the @where macro\n",
    "@where(df, :year .> 2011, :product .== \"hardWSawnW\")"
   ]
  },
  {
   "cell_type": "code",
   "execution_count": 10,
   "metadata": {
    "collapsed": false,
    "scrolled": true
   },
   "outputs": [
    {
     "data": {
      "text/html": [
       "<table class=\"data-frame\"><thead><tr><th></th><th>product</th><th>year</th><th>production</th><th>consumption</th><th>id</th></tr></thead><tbody><tr><th>1</th><td>hardWSawnW</td><td>2010</td><td>200</td><td>200</td><td>1</td></tr><tr><th>2</th><td>hardWSawnW</td><td>2011</td><td>150</td><td>90</td><td>2</td></tr><tr><th>3</th><td>hardWSawnW</td><td>2012</td><td>170</td><td>100</td><td>3</td></tr><tr><th>4</th><td>hardWSawnW</td><td>2013</td><td>160</td><td>95</td><td>4</td></tr><tr><th>5</th><td>softWSawnW</td><td>2010</td><td>100</td><td>80</td><td>5</td></tr><tr><th>6</th><td>softWSawnW</td><td>2011</td><td>130</td><td>95</td><td>6</td></tr><tr><th>7</th><td>softWSawnW</td><td>2012</td><td>165</td><td>110</td><td>7</td></tr><tr><th>8</th><td>softWSawnW</td><td>2013</td><td>158</td><td>120</td><td>8</td></tr></tbody></table>"
      ],
      "text/plain": [
       "8×5 DataFrames.DataFrame\n",
       "│ Row │ product      │ year │ production │ consumption │ id │\n",
       "├─────┼──────────────┼──────┼────────────┼─────────────┼────┤\n",
       "│ 1   │ \"hardWSawnW\" │ 2010 │ 200        │ 200         │ 1  │\n",
       "│ 2   │ \"hardWSawnW\" │ 2011 │ 150        │ 90          │ 2  │\n",
       "│ 3   │ \"hardWSawnW\" │ 2012 │ 170        │ 100         │ 3  │\n",
       "│ 4   │ \"hardWSawnW\" │ 2013 │ 160        │ 95          │ 4  │\n",
       "│ 5   │ \"softWSawnW\" │ 2010 │ 100        │ 80          │ 5  │\n",
       "│ 6   │ \"softWSawnW\" │ 2011 │ 130        │ 95          │ 6  │\n",
       "│ 7   │ \"softWSawnW\" │ 2012 │ 165        │ 110         │ 7  │\n",
       "│ 8   │ \"softWSawnW\" │ 2013 │ 158        │ 120         │ 8  │"
      ]
     },
     "execution_count": 10,
     "metadata": {},
     "output_type": "execute_result"
    }
   ],
   "source": [
    "# Change a single value by filtering columns\n",
    "df[ (df[:product] .== \"hardWSawnW\") & (df[:year] .== 2010) , :consumption] = 200\n",
    "df"
   ]
  },
  {
   "cell_type": "code",
   "execution_count": 11,
   "metadata": {
    "collapsed": false
   },
   "outputs": [
    {
     "data": {
      "text/html": [
       "<table class=\"data-frame\"><thead><tr><th></th><th>region</th><th>product</th><th>year</th><th>production</th><th>consumption</th></tr></thead><tbody><tr><th>1</th><td>US</td><td>hardWSawnW</td><td>2010</td><td>120</td><td>70</td></tr><tr><th>2</th><td>US</td><td>hardWSawnW</td><td>2011</td><td>150</td><td>90</td></tr><tr><th>3</th><td>US</td><td>softWSawnW</td><td>2010</td><td>170</td><td>100</td></tr><tr><th>4</th><td>US</td><td>softWSawnW</td><td>2011</td><td>160</td><td>95</td></tr><tr><th>5</th><td>EU</td><td>hardWSawnW</td><td>2010</td><td>100</td><td>80</td></tr><tr><th>6</th><td>EU</td><td>hardWSawnW</td><td>2011</td><td>130</td><td>95</td></tr><tr><th>7</th><td>EU</td><td>softWSawnW</td><td>2010</td><td>165</td><td>110</td></tr><tr><th>8</th><td>EU</td><td>softWSawnW</td><td>2011</td><td>158</td><td>120</td></tr></tbody></table>"
      ],
      "text/plain": [
       "8×5 DataFrames.DataFrame\n",
       "│ Row │ region │ product      │ year │ production │ consumption │\n",
       "├─────┼────────┼──────────────┼──────┼────────────┼─────────────┤\n",
       "│ 1   │ \"US\"   │ \"hardWSawnW\" │ 2010 │ 120        │ 70          │\n",
       "│ 2   │ \"US\"   │ \"hardWSawnW\" │ 2011 │ 150        │ 90          │\n",
       "│ 3   │ \"US\"   │ \"softWSawnW\" │ 2010 │ 170        │ 100         │\n",
       "│ 4   │ \"US\"   │ \"softWSawnW\" │ 2011 │ 160        │ 95          │\n",
       "│ 5   │ \"EU\"   │ \"hardWSawnW\" │ 2010 │ 100        │ 80          │\n",
       "│ 6   │ \"EU\"   │ \"hardWSawnW\" │ 2011 │ 130        │ 95          │\n",
       "│ 7   │ \"EU\"   │ \"softWSawnW\" │ 2010 │ 165        │ 110         │\n",
       "│ 8   │ \"EU\"   │ \"softWSawnW\" │ 2011 │ 158        │ 120         │"
      ]
     },
     "execution_count": 11,
     "metadata": {},
     "output_type": "execute_result"
    }
   ],
   "source": [
    "df = DataFrame(\n",
    "  region  = [\"US\",\"US\",\"US\",\"US\",\"EU\",\"EU\",\"EU\",\"EU\"],\n",
    "  product = [\"hardWSawnW\",\"hardWSawnW\",\"softWSawnW\",\"softWSawnW\",\"hardWSawnW\",\"hardWSawnW\",\"softWSawnW\",\"softWSawnW\"], \n",
    "  year    = [2010,2011,2010,2011,2010,2011,2010,2011],\n",
    "  production  = [120,150,170,160,100,130,165,158],\n",
    "  consumption = [70,90,100,95,80,95,110,120]\n",
    ")"
   ]
  },
  {
   "cell_type": "code",
   "execution_count": 12,
   "metadata": {
    "collapsed": false
   },
   "outputs": [
    {
     "data": {
      "text/html": [
       "<table class=\"data-frame\"><thead><tr><th></th><th>region</th><th>product</th><th>production_sum</th><th>consumption_sum</th></tr></thead><tbody><tr><th>1</th><td>EU</td><td>hardWSawnW</td><td>230</td><td>175</td></tr><tr><th>2</th><td>EU</td><td>softWSawnW</td><td>323</td><td>230</td></tr><tr><th>3</th><td>US</td><td>hardWSawnW</td><td>270</td><td>160</td></tr><tr><th>4</th><td>US</td><td>softWSawnW</td><td>330</td><td>195</td></tr></tbody></table>"
      ],
      "text/plain": [
       "4×4 DataFrames.DataFrame\n",
       "│ Row │ region │ product      │ production_sum │ consumption_sum │\n",
       "├─────┼────────┼──────────────┼────────────────┼─────────────────┤\n",
       "│ 1   │ \"EU\"   │ \"hardWSawnW\" │ 230            │ 175             │\n",
       "│ 2   │ \"EU\"   │ \"softWSawnW\" │ 323            │ 230             │\n",
       "│ 3   │ \"US\"   │ \"hardWSawnW\" │ 270            │ 160             │\n",
       "│ 4   │ \"US\"   │ \"softWSawnW\" │ 330            │ 195             │"
      ]
     },
     "execution_count": 12,
     "metadata": {},
     "output_type": "execute_result"
    }
   ],
   "source": [
    "# aggregate\n",
    "dfagg = aggregate(df, [:region, :product], sum)\n",
    "delete!(dfagg, [:year_sum])"
   ]
  },
  {
   "cell_type": "code",
   "execution_count": 13,
   "metadata": {
    "collapsed": false
   },
   "outputs": [
    {
     "data": {
      "text/html": [
       "<table class=\"data-frame\"><thead><tr><th></th><th>region</th><th>year</th><th>production</th><th>consumption</th></tr></thead><tbody><tr><th>1</th><td>EU</td><td>2010</td><td>265</td><td>190</td></tr><tr><th>2</th><td>EU</td><td>2011</td><td>288</td><td>215</td></tr><tr><th>3</th><td>US</td><td>2010</td><td>290</td><td>170</td></tr><tr><th>4</th><td>US</td><td>2011</td><td>310</td><td>185</td></tr></tbody></table>"
      ],
      "text/plain": [
       "4×4 DataFrames.DataFrame\n",
       "│ Row │ region │ year │ production │ consumption │\n",
       "├─────┼────────┼──────┼────────────┼─────────────┤\n",
       "│ 1   │ \"EU\"   │ 2010 │ 265        │ 190         │\n",
       "│ 2   │ \"EU\"   │ 2011 │ 288        │ 215         │\n",
       "│ 3   │ \"US\"   │ 2010 │ 290        │ 170         │\n",
       "│ 4   │ \"US\"   │ 2011 │ 310        │ 185         │"
      ]
     },
     "execution_count": 13,
     "metadata": {},
     "output_type": "execute_result"
    }
   ],
   "source": [
    "# aggregate uysing split-apply-combine\n",
    "by(df, [:region,:year]) do df\n",
    "    DataFrame(production = sum(df[:production]), consumption= sum(df[:consumption]))\n",
    "end"
   ]
  },
  {
   "cell_type": "code",
   "execution_count": 14,
   "metadata": {
    "collapsed": false
   },
   "outputs": [
    {
     "data": {
      "text/html": [
       "<table class=\"data-frame\"><thead><tr><th></th><th>region</th><th>product</th><th>year</th><th>production</th><th>consumption</th><th>cumProduction</th></tr></thead><tbody><tr><th>1</th><td>EU</td><td>hardWSawnW</td><td>2010</td><td>100</td><td>80</td><td>100</td></tr><tr><th>2</th><td>EU</td><td>hardWSawnW</td><td>2011</td><td>130</td><td>95</td><td>230</td></tr><tr><th>3</th><td>EU</td><td>softWSawnW</td><td>2010</td><td>165</td><td>110</td><td>165</td></tr><tr><th>4</th><td>EU</td><td>softWSawnW</td><td>2011</td><td>158</td><td>120</td><td>323</td></tr><tr><th>5</th><td>US</td><td>hardWSawnW</td><td>2010</td><td>120</td><td>70</td><td>120</td></tr><tr><th>6</th><td>US</td><td>hardWSawnW</td><td>2011</td><td>150</td><td>90</td><td>270</td></tr><tr><th>7</th><td>US</td><td>softWSawnW</td><td>2010</td><td>170</td><td>100</td><td>170</td></tr><tr><th>8</th><td>US</td><td>softWSawnW</td><td>2011</td><td>160</td><td>95</td><td>330</td></tr></tbody></table>"
      ],
      "text/plain": [
       "8×6 DataFrames.DataFrame\n",
       "│ Row │ region │ product      │ year │ production │ consumption │\n",
       "├─────┼────────┼──────────────┼──────┼────────────┼─────────────┤\n",
       "│ 1   │ \"EU\"   │ \"hardWSawnW\" │ 2010 │ 100        │ 80          │\n",
       "│ 2   │ \"EU\"   │ \"hardWSawnW\" │ 2011 │ 130        │ 95          │\n",
       "│ 3   │ \"EU\"   │ \"softWSawnW\" │ 2010 │ 165        │ 110         │\n",
       "│ 4   │ \"EU\"   │ \"softWSawnW\" │ 2011 │ 158        │ 120         │\n",
       "│ 5   │ \"US\"   │ \"hardWSawnW\" │ 2010 │ 120        │ 70          │\n",
       "│ 6   │ \"US\"   │ \"hardWSawnW\" │ 2011 │ 150        │ 90          │\n",
       "│ 7   │ \"US\"   │ \"softWSawnW\" │ 2010 │ 170        │ 100         │\n",
       "│ 8   │ \"US\"   │ \"softWSawnW\" │ 2011 │ 160        │ 95          │\n",
       "\n",
       "│ Row │ cumProduction │\n",
       "├─────┼───────────────┤\n",
       "│ 1   │ 100           │\n",
       "│ 2   │ 230           │\n",
       "│ 3   │ 165           │\n",
       "│ 4   │ 323           │\n",
       "│ 5   │ 120           │\n",
       "│ 6   │ 270           │\n",
       "│ 7   │ 170           │\n",
       "│ 8   │ 330           │"
      ]
     },
     "execution_count": 14,
     "metadata": {},
     "output_type": "execute_result"
    }
   ],
   "source": [
    "# Compute comulative data by category using the @linq macro (that implements the split-apply-combine)\n",
    "df = @linq df |>\n",
    "     groupby([:region,:product]) |>\n",
    "     transform(cumProduction= cumsum(:production))"
   ]
  },
  {
   "cell_type": "markdown",
   "metadata": {},
   "source": [
    "## Pivot"
   ]
  },
  {
   "cell_type": "code",
   "execution_count": 15,
   "metadata": {
    "collapsed": false
   },
   "outputs": [
    {
     "data": {
      "text/html": [
       "<table class=\"data-frame\"><thead><tr><th></th><th>variable</th><th>value</th><th>region</th><th>product</th><th>year</th></tr></thead><tbody><tr><th>1</th><td>production</td><td>100</td><td>EU</td><td>hardWSawnW</td><td>2010</td></tr><tr><th>2</th><td>production</td><td>130</td><td>EU</td><td>hardWSawnW</td><td>2011</td></tr><tr><th>3</th><td>production</td><td>165</td><td>EU</td><td>softWSawnW</td><td>2010</td></tr><tr><th>4</th><td>production</td><td>158</td><td>EU</td><td>softWSawnW</td><td>2011</td></tr><tr><th>5</th><td>production</td><td>120</td><td>US</td><td>hardWSawnW</td><td>2010</td></tr><tr><th>6</th><td>production</td><td>150</td><td>US</td><td>hardWSawnW</td><td>2011</td></tr><tr><th>7</th><td>production</td><td>170</td><td>US</td><td>softWSawnW</td><td>2010</td></tr><tr><th>8</th><td>production</td><td>160</td><td>US</td><td>softWSawnW</td><td>2011</td></tr><tr><th>9</th><td>consumption</td><td>80</td><td>EU</td><td>hardWSawnW</td><td>2010</td></tr><tr><th>10</th><td>consumption</td><td>95</td><td>EU</td><td>hardWSawnW</td><td>2011</td></tr><tr><th>11</th><td>consumption</td><td>110</td><td>EU</td><td>softWSawnW</td><td>2010</td></tr><tr><th>12</th><td>consumption</td><td>120</td><td>EU</td><td>softWSawnW</td><td>2011</td></tr><tr><th>13</th><td>consumption</td><td>70</td><td>US</td><td>hardWSawnW</td><td>2010</td></tr><tr><th>14</th><td>consumption</td><td>90</td><td>US</td><td>hardWSawnW</td><td>2011</td></tr><tr><th>15</th><td>consumption</td><td>100</td><td>US</td><td>softWSawnW</td><td>2010</td></tr><tr><th>16</th><td>consumption</td><td>95</td><td>US</td><td>softWSawnW</td><td>2011</td></tr></tbody></table>"
      ],
      "text/plain": [
       "16×5 DataFrames.DataFrame\n",
       "│ Row │ variable    │ value │ region │ product      │ year │\n",
       "├─────┼─────────────┼───────┼────────┼──────────────┼──────┤\n",
       "│ 1   │ production  │ 100   │ \"EU\"   │ \"hardWSawnW\" │ 2010 │\n",
       "│ 2   │ production  │ 130   │ \"EU\"   │ \"hardWSawnW\" │ 2011 │\n",
       "│ 3   │ production  │ 165   │ \"EU\"   │ \"softWSawnW\" │ 2010 │\n",
       "│ 4   │ production  │ 158   │ \"EU\"   │ \"softWSawnW\" │ 2011 │\n",
       "│ 5   │ production  │ 120   │ \"US\"   │ \"hardWSawnW\" │ 2010 │\n",
       "│ 6   │ production  │ 150   │ \"US\"   │ \"hardWSawnW\" │ 2011 │\n",
       "│ 7   │ production  │ 170   │ \"US\"   │ \"softWSawnW\" │ 2010 │\n",
       "│ 8   │ production  │ 160   │ \"US\"   │ \"softWSawnW\" │ 2011 │\n",
       "│ 9   │ consumption │ 80    │ \"EU\"   │ \"hardWSawnW\" │ 2010 │\n",
       "│ 10  │ consumption │ 95    │ \"EU\"   │ \"hardWSawnW\" │ 2011 │\n",
       "│ 11  │ consumption │ 110   │ \"EU\"   │ \"softWSawnW\" │ 2010 │\n",
       "│ 12  │ consumption │ 120   │ \"EU\"   │ \"softWSawnW\" │ 2011 │\n",
       "│ 13  │ consumption │ 70    │ \"US\"   │ \"hardWSawnW\" │ 2010 │\n",
       "│ 14  │ consumption │ 90    │ \"US\"   │ \"hardWSawnW\" │ 2011 │\n",
       "│ 15  │ consumption │ 100   │ \"US\"   │ \"softWSawnW\" │ 2010 │\n",
       "│ 16  │ consumption │ 95    │ \"US\"   │ \"softWSawnW\" │ 2011 │"
      ]
     },
     "execution_count": 15,
     "metadata": {},
     "output_type": "execute_result"
    }
   ],
   "source": [
    "# Stack - from wide to long format\n",
    "longdf = stack(df,[:production,:consumption])\n",
    "delete!(longdf, [:cumProduction])"
   ]
  },
  {
   "cell_type": "code",
   "execution_count": 16,
   "metadata": {
    "collapsed": false
   },
   "outputs": [
    {
     "data": {
      "text/html": [
       "<table class=\"data-frame\"><thead><tr><th></th><th>variable</th><th>region</th><th>product</th><th>2010</th><th>2011</th></tr></thead><tbody><tr><th>1</th><td>consumption</td><td>EU</td><td>hardWSawnW</td><td>80</td><td>95</td></tr><tr><th>2</th><td>consumption</td><td>EU</td><td>softWSawnW</td><td>110</td><td>120</td></tr><tr><th>3</th><td>consumption</td><td>US</td><td>hardWSawnW</td><td>70</td><td>90</td></tr><tr><th>4</th><td>consumption</td><td>US</td><td>softWSawnW</td><td>100</td><td>95</td></tr><tr><th>5</th><td>production</td><td>EU</td><td>hardWSawnW</td><td>100</td><td>130</td></tr><tr><th>6</th><td>production</td><td>EU</td><td>softWSawnW</td><td>165</td><td>158</td></tr><tr><th>7</th><td>production</td><td>US</td><td>hardWSawnW</td><td>120</td><td>150</td></tr><tr><th>8</th><td>production</td><td>US</td><td>softWSawnW</td><td>170</td><td>160</td></tr></tbody></table>"
      ],
      "text/plain": [
       "8×5 DataFrames.DataFrame\n",
       "│ Row │ variable    │ region │ product      │ 2010 │ 2011 │\n",
       "├─────┼─────────────┼────────┼──────────────┼──────┼──────┤\n",
       "│ 1   │ consumption │ \"EU\"   │ \"hardWSawnW\" │ 80   │ 95   │\n",
       "│ 2   │ consumption │ \"EU\"   │ \"softWSawnW\" │ 110  │ 120  │\n",
       "│ 3   │ consumption │ \"US\"   │ \"hardWSawnW\" │ 70   │ 90   │\n",
       "│ 4   │ consumption │ \"US\"   │ \"softWSawnW\" │ 100  │ 95   │\n",
       "│ 5   │ production  │ \"EU\"   │ \"hardWSawnW\" │ 100  │ 130  │\n",
       "│ 6   │ production  │ \"EU\"   │ \"softWSawnW\" │ 165  │ 158  │\n",
       "│ 7   │ production  │ \"US\"   │ \"hardWSawnW\" │ 120  │ 150  │\n",
       "│ 8   │ production  │ \"US\"   │ \"softWSawnW\" │ 170  │ 160  │"
      ]
     },
     "execution_count": 16,
     "metadata": {},
     "output_type": "execute_result"
    }
   ],
   "source": [
    "# Unstack - from long to wide format\n",
    "#`widedf = unstack(longdf, :id, :variable, :value)`\n",
    "widedf = unstack(longdf, :year, :value)"
   ]
  }
 ],
 "metadata": {
  "kernelspec": {
   "display_name": "Julia 0.5.0",
   "language": "julia",
   "name": "julia-0.5"
  },
  "language_info": {
   "file_extension": ".jl",
   "mimetype": "application/julia",
   "name": "julia",
   "version": "0.5.0"
  }
 },
 "nbformat": 4,
 "nbformat_minor": 1
}
